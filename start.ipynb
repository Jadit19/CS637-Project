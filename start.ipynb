{
 "cells": [
  {
   "cell_type": "code",
   "execution_count": 2,
   "metadata": {},
   "outputs": [],
   "source": [
    "import numpy as np\n",
    "import gym\n",
    "import random, time\n",
    "import matplotlib.pyplot as plt\n",
    "%matplotlib inline"
   ]
  },
  {
   "cell_type": "code",
   "execution_count": null,
   "metadata": {},
   "outputs": [],
   "source": [
    "# parameters\n",
    "\n",
    "num_episodes = 10000\n",
    "max_steps_per_episode = 100\n",
    "learning_rate = 0.1\n",
    "discount_rate = 0.99\n",
    "exploration_rate = 1\n",
    "max_exploration_rate = 1\n",
    "min_exploration_rate = 0.01\n",
    "exploration_decay_rate = 0.001\n",
    "\n",
    "# PID controller parameters\n",
    "Kp = 0.1\n",
    "Ki = 0.1\n",
    "Kd = 0.1\n",
    "\n",
    "state_space_size = 100\n",
    "action_space_size = 3\n",
    "QTable = np.zeros((state_space_size, action_space_size))\n"
   ]
  },
  {
   "cell_type": "code",
   "execution_count": null,
   "metadata": {},
   "outputs": [],
   "source": [
    "def sigmoid(z):\n",
    "    denom = 1 -  np.exp(-z) \n",
    "    return 1/denom * 100\n",
    "\n",
    "def getReward(error):\n",
    "    if error < 0.01:\n",
    "        reward = 1\n",
    "    elif error < 0.1:\n",
    "        reward = 0\n",
    "    elif error > 1:\n",
    "        reward = -1\n",
    "    else:\n",
    "        reward = -2\n",
    "    return reward\n",
    "\n",
    "def ErrorFunc(currAlt, prevAlt, nextAlt, dt):\n",
    "    delAlt = currAlt - nextAlt\n",
    "    delprevAlt = prevAlt - currAlt\n",
    "    d = delAlt - delprevAlt\n",
    "    v = d/dt\n",
    "    E = delAlt + v \n",
    "    return E\n",
    "\n"
   ]
  },
  {
   "cell_type": "code",
   "execution_count": 1,
   "metadata": {},
   "outputs": [],
   "source": [
    "from simple_pid import PID\n",
    "pid = PID(1,0.1, 0.05, setpoint=1)\n",
    "init = 0.1\n",
    "pid.sample_time = 0.01\n",
    "values = []\n",
    "\n",
    "iterations = 0\n",
    "while iterations < 10:\n",
    "    output = pid(init)\n",
    "    values.append(output)\n",
    "    init = output\n",
    "    iterations = iterations + 1\n"
   ]
  },
  {
   "cell_type": "code",
   "execution_count": 2,
   "metadata": {},
   "outputs": [
    {
     "data": {
      "text/plain": [
       "[0.9, 0.9, 0.9, 0.9, 0.9, 0.9, 0.9, 0.9, 0.9, 0.9]"
      ]
     },
     "execution_count": 2,
     "metadata": {},
     "output_type": "execute_result"
    }
   ],
   "source": [
    "values"
   ]
  }
 ],
 "metadata": {
  "kernelspec": {
   "display_name": "Python 3.9.5 64-bit",
   "language": "python",
   "name": "python3"
  },
  "language_info": {
   "codemirror_mode": {
    "name": "ipython",
    "version": 3
   },
   "file_extension": ".py",
   "mimetype": "text/x-python",
   "name": "python",
   "nbconvert_exporter": "python",
   "pygments_lexer": "ipython3",
   "version": "3.9.5"
  },
  "orig_nbformat": 4,
  "vscode": {
   "interpreter": {
    "hash": "81794d4967e6c3204c66dcd87b604927b115b27c00565d3d43f05ba2f3a2cb0d"
   }
  }
 },
 "nbformat": 4,
 "nbformat_minor": 2
}
